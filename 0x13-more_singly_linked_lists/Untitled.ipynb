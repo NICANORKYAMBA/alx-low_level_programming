{
 "cells": [
  {
   "cell_type": "code",
   "execution_count": 1,
   "id": "9a87f1cb",
   "metadata": {},
   "outputs": [
    {
     "name": "stdout",
     "output_type": "stream",
     "text": [
      "Nicanor is a good damn man!\n"
     ]
    }
   ],
   "source": [
    "print(\"Nicanor is a good damn man!\")"
   ]
  },
  {
   "cell_type": "code",
   "execution_count": 5,
   "id": "42ea4262",
   "metadata": {},
   "outputs": [
    {
     "name": "stdout",
     "output_type": "stream",
     "text": [
      "5*5 = 25\n"
     ]
    }
   ],
   "source": [
    "x = 5\n",
    "\n",
    "ans = 0\n",
    "\n",
    "itersLeft = x\n",
    "\n",
    "while (itersLeft != 0):\n",
    "    \n",
    "    ans = ans + x\n",
    "    \n",
    "    itersLeft = itersLeft - 1\n",
    "    \n",
    "print(str(x) + '*' + str(x) + ' = ' + str(ans))"
   ]
  },
  {
   "cell_type": "code",
   "execution_count": null,
   "id": "782656d0",
   "metadata": {},
   "outputs": [],
   "source": []
  }
 ],
 "metadata": {
  "kernelspec": {
   "display_name": "Python 3 (ipykernel)",
   "language": "python",
   "name": "python3"
  },
  "language_info": {
   "codemirror_mode": {
    "name": "ipython",
    "version": 3
   },
   "file_extension": ".py",
   "mimetype": "text/x-python",
   "name": "python",
   "nbconvert_exporter": "python",
   "pygments_lexer": "ipython3",
   "version": "3.9.13"
  }
 },
 "nbformat": 4,
 "nbformat_minor": 5
}
